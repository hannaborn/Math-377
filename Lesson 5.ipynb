{
 "cells": [
  {
   "cell_type": "markdown",
   "metadata": {},
   "source": [
    "# Lesson 5 Notebook\n",
    "Hanna Born"
   ]
  },
  {
   "cell_type": "markdown",
   "metadata": {},
   "source": [
    "#### Question 1"
   ]
  },
  {
   "cell_type": "code",
   "execution_count": 3,
   "metadata": {},
   "outputs": [
    {
     "name": "stdout",
     "output_type": "stream",
     "text": [
      "[5, 4, 8, 4]\n"
     ]
    }
   ],
   "source": [
    "from datascience import *\n",
    "import numpy as np\n",
    "\n",
    "# create an array containing 4 string elements: your first name, your last\n",
    "# name, your birth state, and your favorite color\n",
    "my_array = make_array(\"Hanna\", \"Born\", \"Maryland\", \"blue\")\n",
    "my_array\n",
    "\n",
    "# a) use a numpy function to make all elements uppercase\n",
    "np.char.upper(my_array)\n",
    "\n",
    "# b) use a numpy function to count the number of times the letter \"a\" appears\n",
    "#    in each element of your array\n",
    "np.char.count(my_array, 'a')\n",
    "\n",
    "# c) optional: use a numpy function ot find the length of each element in \n",
    "#    the array. (you may need to Google this.)\n",
    "\n",
    "arr = my_array\n",
    "\n",
    "sizes = []\n",
    "for i in arr:\n",
    "    sizes.append(len(i))\n",
    "    \n",
    "print(sizes)"
   ]
  },
  {
   "cell_type": "markdown",
   "metadata": {},
   "source": [
    "#### Question 2"
   ]
  },
  {
   "cell_type": "code",
   "execution_count": 26,
   "metadata": {},
   "outputs": [
    {
     "data": {
      "text/plain": [
       "array([[ 6, 14, 22, 30, 38, 46, 54, 62, 70, 78, 86]])"
      ]
     },
     "execution_count": 26,
     "metadata": {},
     "output_type": "execute_result"
    }
   ],
   "source": [
    "# 2) Create an array containing EVERY OTHER odd number starting with 1 and\n",
    "#    ending with (and including) 41.\n",
    "my_odds = np.arange(1,42,4)\n",
    "my_odds\n",
    "\n",
    "# a) use numpy to find the sum and the product of the elements of this array.\n",
    "#    NOTE: this will require you to convert the elements of your array to \n",
    "#    floats using the astype method.\n",
    "np.cumprod(my_odds, dtype=\"int64\")\n",
    "\n",
    "# b) use numpy to take the natural log of each element.\n",
    "np.log(my_odds)\n",
    "\n",
    "# c) optional: the np function np.diff finds the difference between adjacent\n",
    "#    elements of an array. Find the SUM of adjacent elements of this array.\n",
    "difference = np.diff(my_odds)\n",
    "difference\n",
    "adjust = np.resize(difference, (1,11))\n",
    "answer = (2 * my_odds) + adjust\n",
    "answer"
   ]
  }
 ],
 "metadata": {
  "kernelspec": {
   "display_name": "Python 3",
   "language": "python",
   "name": "python3"
  },
  "language_info": {
   "codemirror_mode": {
    "name": "ipython",
    "version": 3
   },
   "file_extension": ".py",
   "mimetype": "text/x-python",
   "name": "python",
   "nbconvert_exporter": "python",
   "pygments_lexer": "ipython3",
   "version": "3.6.5"
  }
 },
 "nbformat": 4,
 "nbformat_minor": 2
}
