{
 "cells": [
  {
   "cell_type": "markdown",
   "metadata": {},
   "source": [
    "# Lesson 2 Notebook"
   ]
  },
  {
   "cell_type": "code",
   "execution_count": null,
   "metadata": {},
   "outputs": [],
   "source": [
    "Hanna Born"
   ]
  },
  {
   "cell_type": "markdown",
   "metadata": {},
   "source": [
    "1)\n",
    "Data science: \n",
    "\"a science that's about drawing useful conclusions from data using computation as our primary tool\" (edX)\n",
    "\"Data science is about drawing useful conclusions from large and diverse data sets through exploration, prediction, and inference.\" (textbook)\n",
    "How I might use data science in the USAF:\n",
    "At its most basic level data science is essentially informed decision making. This is used in different magnitudes in all careers and at all command levels in the military - whether it be a small scale decision such as one considering the ergonomics of creating an effective workplace environment or as widescale as top level leadership making informed decisions for wing or organizational issues."
   ]
  },
  {
   "cell_type": "markdown",
   "metadata": {},
   "source": [
    "2)\n",
    "Three focus areas of data analysis are exploration, prediction, and inference.\n",
    "Three focus areas of this course objective are to formulate, solve, and interpret optimization problems."
   ]
  },
  {
   "cell_type": "markdown",
   "metadata": {},
   "source": [
    "3)\n",
    "datascience package installed"
   ]
  },
  {
   "cell_type": "code",
   "execution_count": 1,
   "metadata": {},
   "outputs": [
    {
     "data": {
      "text/plain": [
       "4"
      ]
     },
     "execution_count": 1,
     "metadata": {},
     "output_type": "execute_result"
    }
   ],
   "source": [
    "#4 part 1\n",
    "2+2"
   ]
  },
  {
   "cell_type": "code",
   "execution_count": 2,
   "metadata": {},
   "outputs": [
    {
     "data": {
      "text/plain": [
       "80"
      ]
     },
     "execution_count": 2,
     "metadata": {},
     "output_type": "execute_result"
    }
   ],
   "source": [
    "#4 part 2\n",
    "20*4"
   ]
  },
  {
   "cell_type": "code",
   "execution_count": 3,
   "metadata": {},
   "outputs": [
    {
     "data": {
      "text/plain": [
       "5.375"
      ]
     },
     "execution_count": 3,
     "metadata": {},
     "output_type": "execute_result"
    }
   ],
   "source": [
    "#4 part 3\n",
    "43/8"
   ]
  },
  {
   "cell_type": "code",
   "execution_count": 9,
   "metadata": {},
   "outputs": [
    {
     "name": "stdout",
     "output_type": "stream",
     "text": [
      "Hanna Born 👍\n"
     ]
    }
   ],
   "source": [
    "#5\n",
    "print ('Hanna Born \\N{THUMBS UP SIGN}')"
   ]
  },
  {
   "cell_type": "markdown",
   "metadata": {},
   "source": [
    "6)\n",
    "There is no proof that Ice Cream sales cause violent crime. There is indication of an association or correlation between ice cream sales and violent crime but this does not indicate causation."
   ]
  },
  {
   "cell_type": "markdown",
   "metadata": {},
   "source": [
    "7)\n",
    "In an observational study one does not have any say about who recieves which treatment; they simply observe what is already there. However, in an experiment, one is able to determine who recieves which treatment and organize the experiment accordingly. It ma be easier to control outlying factors in an experiment than in an observational study; therefor making it easier to determine causality in some cases."
   ]
  }
 ],
 "metadata": {
  "kernelspec": {
   "display_name": "Python 3",
   "language": "python",
   "name": "python3"
  },
  "language_info": {
   "codemirror_mode": {
    "name": "ipython",
    "version": 3
   },
   "file_extension": ".py",
   "mimetype": "text/x-python",
   "name": "python",
   "nbconvert_exporter": "python",
   "pygments_lexer": "ipython3",
   "version": "3.6.5"
  }
 },
 "nbformat": 4,
 "nbformat_minor": 2
}
