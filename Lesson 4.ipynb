{
 "cells": [
  {
   "cell_type": "markdown",
   "metadata": {},
   "source": [
    "# Lesson 4 Notebook\n",
    "Hanna Born"
   ]
  },
  {
   "cell_type": "markdown",
   "metadata": {},
   "source": [
    "#### Question 1"
   ]
  },
  {
   "cell_type": "code",
   "execution_count": 49,
   "metadata": {},
   "outputs": [
    {
     "name": "stdout",
     "output_type": "stream",
     "text": [
      "I am Hanna Born . I am 19 years old. I'm from Boston\n",
      "hanna born\n",
      "Hanna Born\n"
     ]
    }
   ],
   "source": [
    "first_name = 'Hanna'\n",
    "last_name = 'Born'\n",
    "name = first_name + \" \" + last_name\n",
    "age = 19\n",
    "hometown = 'Boston'\n",
    "\n",
    "part1 = print(\"I am\", name,\". I am\", age, \"years old. I'm from\", hometown)\n",
    "\n",
    "# Now, use a string method to make your name lower case.\n",
    "# Print the all lower case version of your name.\n",
    "name = first_name.lower() + \" \" + last_name.lower()\n",
    "print(name)\n",
    "\n",
    "# Now use a string method to make your full name a proper noun.\n",
    "# Print this version of your name.\n",
    "titlename = name.title()\n",
    "print(titlename)"
   ]
  },
  {
   "cell_type": "markdown",
   "metadata": {},
   "source": [
    "#### Question 2"
   ]
  },
  {
   "cell_type": "code",
   "execution_count": 30,
   "metadata": {},
   "outputs": [
    {
     "name": "stdout",
     "output_type": "stream",
     "text": [
      "she is Hanna Born. she is 19 years old. she's from Boston.\n"
     ]
    }
   ],
   "source": [
    "# Using the 'replace' method, replace all \"I am\" with \"he is\" or \"she is\"\n",
    "# and all \"I'm\" with \"he's\" or \"she's\".\n",
    "\n",
    "sentence = \"I am Hanna Born. I am 19 years old. I'm from Boston.\"\n",
    "a = sentence.replace(\"I am\", \"she is\")\n",
    "b = a.replace(\"I'm\", \"she's\")\n",
    "print(b)"
   ]
  },
  {
   "cell_type": "markdown",
   "metadata": {},
   "source": [
    "#### Question 3"
   ]
  },
  {
   "cell_type": "code",
   "execution_count": 44,
   "metadata": {},
   "outputs": [
    {
     "data": {
      "text/plain": [
       "False"
      ]
     },
     "execution_count": 44,
     "metadata": {},
     "output_type": "execute_result"
    }
   ],
   "source": [
    "# Return a boolean response indicating whether the length of your original\n",
    "# sentence (in #1) is greater than your age plus 40.\n",
    "\n",
    "sentence = \"I am Hanna Born. I am 19 years old. I'm from Boston.\"\n",
    "length = len(sentence)\n",
    "age = 19\n",
    "value = age + 40\n",
    "length > value"
   ]
  }
 ],
 "metadata": {
  "kernelspec": {
   "display_name": "Python 3",
   "language": "python",
   "name": "python3"
  },
  "language_info": {
   "codemirror_mode": {
    "name": "ipython",
    "version": 3
   },
   "file_extension": ".py",
   "mimetype": "text/x-python",
   "name": "python",
   "nbconvert_exporter": "python",
   "pygments_lexer": "ipython3",
   "version": "3.6.5"
  }
 },
 "nbformat": 4,
 "nbformat_minor": 2
}
