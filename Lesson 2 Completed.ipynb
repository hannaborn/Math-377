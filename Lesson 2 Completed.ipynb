{
 "cells": [
  {
   "cell_type": "markdown",
   "metadata": {},
   "source": [
    "# Lesson 2 Notebook\n",
    "Hanna Born"
   ]
  },
  {
   "cell_type": "markdown",
   "metadata": {},
   "source": [
    "#### Question 1\n",
    "Define data science. How do you think you will use Data Science in your career (either as a student or in the Air Force)?"
   ]
  },
  {
   "cell_type": "markdown",
   "metadata": {},
   "source": [
    "Data science: \n",
    "\"a science that's about drawing useful conclusions from data using computation as our primary tool\" (edX)\n",
    "\"Data science is about drawing useful conclusions from large and diverse data sets through exploration, prediction, and inference.\" (textbook)\n",
    "How I might use data science in the USAF:\n",
    "At its most basic level data science is essentially informed decision making. This is used in different magnitudes in all careers and at all command levels in the military - whether it be a small scale decision such as one considering the ergonomics of creating an effective workplace environment or as widescale as top level leadership making informed decisions for wing or organizational issues."
   ]
  },
  {
   "cell_type": "markdown",
   "metadata": {},
   "source": [
    "#### Question 2\n",
    "What are the three focus areas in this course?"
   ]
  },
  {
   "cell_type": "markdown",
   "metadata": {},
   "source": [
    "Three focus areas of data analysis are exploration, inference and prediction.\n",
    "Three focus areas included in the course objectives are to formulate, solve, and interpret optimization problems."
   ]
  },
  {
   "cell_type": "markdown",
   "metadata": {},
   "source": [
    "#### Question 3\n",
    "Install the datascience package (no Jupyter notebook input required)."
   ]
  },
  {
   "cell_type": "markdown",
   "metadata": {},
   "source": [
    "* datascience package installed"
   ]
  },
  {
   "cell_type": "markdown",
   "metadata": {},
   "source": [
    "#### Question 4\n",
    "Do at least 3 basic calculations in three separate boxes."
   ]
  },
  {
   "cell_type": "code",
   "execution_count": 1,
   "metadata": {},
   "outputs": [
    {
     "data": {
      "text/plain": [
       "4"
      ]
     },
     "execution_count": 1,
     "metadata": {},
     "output_type": "execute_result"
    }
   ],
   "source": [
    "#4 part 1\n",
    "2+2"
   ]
  },
  {
   "cell_type": "code",
   "execution_count": 2,
   "metadata": {},
   "outputs": [
    {
     "data": {
      "text/plain": [
       "80"
      ]
     },
     "execution_count": 2,
     "metadata": {},
     "output_type": "execute_result"
    }
   ],
   "source": [
    "#4 part 2\n",
    "20*4"
   ]
  },
  {
   "cell_type": "code",
   "execution_count": 3,
   "metadata": {},
   "outputs": [
    {
     "data": {
      "text/plain": [
       "5.375"
      ]
     },
     "execution_count": 3,
     "metadata": {},
     "output_type": "execute_result"
    }
   ],
   "source": [
    "#4 part 3\n",
    "43/8"
   ]
  },
  {
   "cell_type": "markdown",
   "metadata": {},
   "source": [
    "#### Question 5\n",
    "In another box, use python code to print your name followed by a \"thumbs up\" sign (you may need to do an internet search for Unicode thumbs up character)."
   ]
  },
  {
   "cell_type": "code",
   "execution_count": 9,
   "metadata": {},
   "outputs": [
    {
     "name": "stdout",
     "output_type": "stream",
     "text": [
      "Hanna Born 👍\n"
     ]
    }
   ],
   "source": [
    "print ('Hanna Born \\N{THUMBS UP SIGN}')"
   ]
  },
  {
   "cell_type": "markdown",
   "metadata": {},
   "source": [
    "#### Question 6\n",
    "I read once that violent crime is significantly associated with ice cream sales. That is, as ice cream sales increase, so does violent crime. Do high ice cream sales cause an increase in violent crime? Explain this relationship."
   ]
  },
  {
   "cell_type": "markdown",
   "metadata": {},
   "source": [
    "There is no proof that Ice Cream sales cause violent crime. There is indication of an association or correlation between ice cream sales and violent crime but this does not indicate causation."
   ]
  },
  {
   "cell_type": "markdown",
   "metadata": {},
   "source": [
    "#### Question 7\n",
    "What is the difference between an observational study and an experiment?"
   ]
  },
  {
   "cell_type": "markdown",
   "metadata": {},
   "source": [
    "In an observational study one does not have any say about who recieves which treatment; they simply observe what is already there. However, in an experiment, one is able to determine who recieves which treatment and organize the experiment accordingly. It ma be easier to control outlying factors in an experiment than in an observational study; therefor making it easier to determine causality in some cases."
   ]
  }
 ],
 "metadata": {
  "kernelspec": {
   "display_name": "Python 3",
   "language": "python",
   "name": "python3"
  },
  "language_info": {
   "codemirror_mode": {
    "name": "ipython",
    "version": 3
   },
   "file_extension": ".py",
   "mimetype": "text/x-python",
   "name": "python",
   "nbconvert_exporter": "python",
   "pygments_lexer": "ipython3",
   "version": "3.6.5"
  }
 },
 "nbformat": 4,
 "nbformat_minor": 2
}
